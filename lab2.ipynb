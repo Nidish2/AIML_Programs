{
 "cells": [
  {
   "cell_type": "code",
   "execution_count": 2,
   "metadata": {},
   "outputs": [
    {
     "data": {
      "text/plain": [
       "array([[2, 0, 0],\n",
       "       [0, 0, 1],\n",
       "       [1, 0, 2]])"
      ]
     },
     "execution_count": 2,
     "metadata": {},
     "output_type": "execute_result"
    }
   ],
   "source": [
    "from sklearn.metrics import confusion_matrix\n",
    "y_true=[2,0,2,2,0,1]\n",
    "y_pred=[0,0,2,2,0,2]\n",
    "confusion_matrix(y_true,y_pred)\n"
   ]
  },
  {
   "cell_type": "code",
   "execution_count": 3,
   "metadata": {},
   "outputs": [
    {
     "name": "stdout",
     "output_type": "stream",
     "text": [
      "Confusion Matrix : \n",
      "[[4 2]\n",
      " [1 3]]\n",
      "Accuracy Score :  0.7\n",
      "Report : \n",
      "              precision    recall  f1-score   support\n",
      "\n",
      "           0       0.80      0.67      0.73         6\n",
      "           1       0.60      0.75      0.67         4\n",
      "\n",
      "    accuracy                           0.70        10\n",
      "   macro avg       0.70      0.71      0.70        10\n",
      "weighted avg       0.72      0.70      0.70        10\n",
      "\n"
     ]
    }
   ],
   "source": [
    "from sklearn.metrics import confusion_matrix\n",
    "from sklearn.metrics import accuracy_score\n",
    "from sklearn.metrics import classification_report\n",
    "actual=[1,1,0,1,0,0,1,0,0,0]\n",
    "predicted=[1,0,0,1,0,0,1,1,1,0]\n",
    "results=confusion_matrix(actual, predicted)\n",
    "print(\"Confusion Matrix : \")\n",
    "print(results)\n",
    "print(\"Accuracy Score : \", accuracy_score(actual, predicted))\n",
    "print(\"Report : \")\n",
    "print(classification_report(actual, predicted))"
   ]
  },
  {
   "cell_type": "code",
   "execution_count": 8,
   "metadata": {},
   "outputs": [
    {
     "name": "stdout",
     "output_type": "stream",
     "text": [
      "Iris Datasets loaded...\n"
     ]
    }
   ],
   "source": [
    "from sklearn import datasets\n",
    "iris=datasets.load_iris()\n",
    "print(\"Iris Datasets loaded...\")\n"
   ]
  },
  {
   "cell_type": "code",
   "execution_count": 10,
   "metadata": {},
   "outputs": [
    {
     "name": "stdout",
     "output_type": "stream",
     "text": [
      "Iris Data set loaded...\n",
      "\n",
      "Dataset is split into training and testing...\n",
      "Size of training data and its label: (135, 4), (135,)\n",
      "Size of testing data and its label: (15, 4), (15,)\n",
      "\n",
      "label 0 - setosa\n",
      "label 1 - versicolor\n",
      "label 2 - virginica\n",
      ".. _iris_dataset:\n",
      "\n",
      "Iris plants dataset\n",
      "--------------------\n",
      "\n",
      "**Data Set Characteristics:**\n",
      "\n",
      ":Number of Instances: 150 (50 in each of three classes)\n",
      ":Number of Attributes: 4 numeric, predictive attributes and the class\n",
      ":Attribute Information:\n",
      "    - sepal length in cm\n",
      "    - sepal width in cm\n",
      "    - petal length in cm\n",
      "    - petal width in cm\n",
      "    - class:\n",
      "            - Iris-Setosa\n",
      "            - Iris-Versicolour\n",
      "            - Iris-Virginica\n",
      "\n",
      ":Summary Statistics:\n",
      "\n",
      "============== ==== ==== ======= ===== ====================\n",
      "                Min  Max   Mean    SD   Class Correlation\n",
      "============== ==== ==== ======= ===== ====================\n",
      "sepal length:   4.3  7.9   5.84   0.83    0.7826\n",
      "sepal width:    2.0  4.4   3.05   0.43   -0.4194\n",
      "petal length:   1.0  6.9   3.76   1.76    0.9490  (high!)\n",
      "petal width:    0.1  2.5   1.20   0.76    0.9565  (high!)\n",
      "============== ==== ==== ======= ===== ====================\n",
      "\n",
      ":Missing Attribute Values: None\n",
      ":Class Distribution: 33.3% for each of 3 classes.\n",
      ":Creator: R.A. Fisher\n",
      ":Donor: Michael Marshall (MARSHALL%PLU@io.arc.nasa.gov)\n",
      ":Date: July, 1988\n",
      "\n",
      "The famous Iris database, first used by Sir R.A. Fisher. The dataset is taken\n",
      "from Fisher's paper. Note that it's the same as in R, but not as in the UCI\n",
      "Machine Learning Repository, which has two wrong data points.\n",
      "\n",
      "This is perhaps the best known database to be found in the\n",
      "pattern recognition literature.  Fisher's paper is a classic in the field and\n",
      "is referenced frequently to this day.  (See Duda & Hart, for example.)  The\n",
      "data set contains 3 classes of 50 instances each, where each class refers to a\n",
      "type of iris plant.  One class is linearly separable from the other 2; the\n",
      "latter are NOT linearly separable from each other.\n",
      "\n",
      ".. dropdown:: References\n",
      "\n",
      "  - Fisher, R.A. \"The use of multiple measurements in taxonomic problems\"\n",
      "    Annual Eugenics, 7, Part II, 179-188 (1936); also in \"Contributions to\n",
      "    Mathematical Statistics\" (John Wiley, NY, 1950).\n",
      "  - Duda, R.O., & Hart, P.E. (1973) Pattern Classification and Scene Analysis.\n",
      "    (Q327.D83) John Wiley & Sons.  ISBN 0-471-22361-1.  See page 218.\n",
      "  - Dasarathy, B.V. (1980) \"Nosing Around the Neighborhood: A New System\n",
      "    Structure and Classification Rule for Recognition in Partially Exposed\n",
      "    Environments\".  IEEE Transactions on Pattern Analysis and Machine\n",
      "    Intelligence, Vol. PAMI-2, No. 1, 67-71.\n",
      "  - Gates, G.W. (1972) \"The Reduced Nearest Neighbor Rule\".  IEEE Transactions\n",
      "    on Information Theory, May 1972, 431-433.\n",
      "  - See also: 1988 MLC Proceedings, 54-64.  Cheeseman et al\"s AUTOCLASS II\n",
      "    conceptual clustering system finds 3 classes in the data.\n",
      "  - Many, many more ...\n",
      "\n",
      "Results of Classification using KNN with k=1\n",
      "Samples: , [4.6 3.1 1.5 0.2] Actual-labels: 0 Predicted-label: 0\n",
      "Samples: , [5.  3.5 1.6 0.6] Actual-labels: 0 Predicted-label: 0\n",
      "Samples: , [7.6 3.  6.6 2.1] Actual-labels: 2 Predicted-label: 2\n",
      "Samples: , [4.8 3.4 1.6 0.2] Actual-labels: 0 Predicted-label: 0\n",
      "Samples: , [5.  2.3 3.3 1. ] Actual-labels: 1 Predicted-label: 1\n",
      "Samples: , [5.  3.4 1.6 0.4] Actual-labels: 0 Predicted-label: 0\n",
      "Samples: , [5.2 3.5 1.5 0.2] Actual-labels: 0 Predicted-label: 0\n",
      "Samples: , [4.4 3.  1.3 0.2] Actual-labels: 0 Predicted-label: 0\n",
      "Samples: , [5.8 2.7 3.9 1.2] Actual-labels: 1 Predicted-label: 1\n",
      "Samples: , [6.  2.2 4.  1. ] Actual-labels: 1 Predicted-label: 1\n",
      "Samples: , [7.  3.2 4.7 1.4] Actual-labels: 1 Predicted-label: 1\n",
      "Samples: , [7.4 2.8 6.1 1.9] Actual-labels: 2 Predicted-label: 2\n",
      "Samples: , [6.1 2.9 4.7 1.4] Actual-labels: 1 Predicted-label: 1\n",
      "Samples: , [6.  3.4 4.5 1.6] Actual-labels: 1 Predicted-label: 1\n",
      "Samples: , [4.8 3.  1.4 0.1] Actual-labels: 0 Predicted-label: 0\n",
      "Classification Accuracy:  1.0\n"
     ]
    }
   ],
   "source": [
    "from sklearn.model_selection import train_test_split\n",
    "from sklearn.neighbors import KNeighborsClassifier\n",
    "from sklearn import datasets\n",
    "\n",
    "iris = datasets.load_iris()\n",
    "print(\"Iris Data set loaded...\")\n",
    "\n",
    "x_train, x_test, y_train, y_test = train_test_split(iris.data, iris.target, test_size = 0.1)\n",
    "\n",
    "console_str = f\"\"\"\n",
    "Dataset is split into training and testing...\n",
    "Size of training data and its label: {x_train.shape}, {y_train.shape}\n",
    "Size of testing data and its label: {x_test.shape}, {y_test.shape}\n",
    "\"\"\"\n",
    "print(console_str)\n",
    "\n",
    "for i in range(len(iris.target_names)):\n",
    "    print(f\"label {i} - {str(iris.target_names[i])}\")\n",
    "\n",
    "print(iris[\"DESCR\"])\n",
    "\n",
    "classifier = KNeighborsClassifier(n_neighbors=1)\n",
    "\n",
    "classifier.fit(x_train, y_train)\n",
    "\n",
    "y_pred = classifier.predict(x_test)\n",
    "\n",
    "print(\"Results of Classification using KNN with k=1\")\n",
    "\n",
    "for r in range(0, len(x_test)):\n",
    "    print(f\"Samples: , {str(x_test[r])} Actual-labels: {str(y_test[r])} Predicted-label: {str(y_pred[r])}\")\n",
    "\n",
    "print(\"Classification Accuracy: \", classifier.score(x_test, y_test))\n",
    "\n"
   ]
  },
  {
   "cell_type": "code",
   "execution_count": 11,
   "metadata": {},
   "outputs": [
    {
     "name": "stdout",
     "output_type": "stream",
     "text": [
      "\n",
      "Confusion Matrix:\n",
      "[[7 0 0]\n",
      " [0 6 0]\n",
      " [0 0 2]]\n",
      "Accuracy Metrics:\n",
      "              precision    recall  f1-score   support\n",
      "\n",
      "           0       1.00      1.00      1.00         7\n",
      "           1       1.00      1.00      1.00         6\n",
      "           2       1.00      1.00      1.00         2\n",
      "\n",
      "    accuracy                           1.00        15\n",
      "   macro avg       1.00      1.00      1.00        15\n",
      "weighted avg       1.00      1.00      1.00        15\n",
      "\n",
      "\n"
     ]
    }
   ],
   "source": [
    "console_str = f\"\"\"\n",
    "Confusion Matrix:\n",
    "{confusion_matrix(y_test, y_pred)}\n",
    "Accuracy Metrics:\n",
    "{classification_report(y_test, y_pred)}\n",
    "\"\"\"\n",
    "print(console_str)"
   ]
  },
  {
   "cell_type": "code",
   "execution_count": null,
   "metadata": {},
   "outputs": [],
   "source": []
  }
 ],
 "metadata": {
  "kernelspec": {
   "display_name": "env",
   "language": "python",
   "name": "python3"
  },
  "language_info": {
   "codemirror_mode": {
    "name": "ipython",
    "version": 3
   },
   "file_extension": ".py",
   "mimetype": "text/x-python",
   "name": "python",
   "nbconvert_exporter": "python",
   "pygments_lexer": "ipython3",
   "version": "3.13.1"
  }
 },
 "nbformat": 4,
 "nbformat_minor": 2
}
